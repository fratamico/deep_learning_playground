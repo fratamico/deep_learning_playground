{
 "cells": [
  {
   "cell_type": "markdown",
   "metadata": {
    "colab_type": "text",
    "id": "5hIbr52I7Z7U"
   },
   "source": [
    "Deep Learning\n",
    "=============\n",
    "\n",
    "Assignment 1\n",
    "------------\n",
    "\n",
    "The objective of this assignment is to learn about simple data curation practices, and familiarize you with some of the data we'll be reusing later.\n",
    "\n",
    "This notebook uses the [notMNIST](http://yaroslavvb.blogspot.com/2011/09/notmnist-dataset.html) dataset to be used with python experiments. This dataset is designed to look like the classic [MNIST](http://yann.lecun.com/exdb/mnist/) dataset, while looking a little more like real data: it's a harder task, and the data is a lot less 'clean' than MNIST."
   ]
  },
  {
   "cell_type": "code",
   "execution_count": 1,
   "metadata": {
    "cellView": "both",
    "colab": {
     "autoexec": {
      "startup": false,
      "wait_interval": 0
     }
    },
    "colab_type": "code",
    "collapsed": false,
    "id": "apJbCsBHl-2A"
   },
   "outputs": [],
   "source": [
    "# These are all the modules we'll be using later. Make sure you can import them\n",
    "# before proceeding further.\n",
    "from __future__ import print_function\n",
    "import matplotlib.pyplot as plt\n",
    "import numpy as np\n",
    "import os\n",
    "import sys\n",
    "import tarfile\n",
    "from IPython.display import display, Image\n",
    "from scipy import ndimage\n",
    "from sklearn.linear_model import LogisticRegression\n",
    "from six.moves.urllib.request import urlretrieve\n",
    "from six.moves import cPickle as pickle\n",
    "\n",
    "# Config the matplotlib backend as plotting inline in IPython\n",
    "%matplotlib inline"
   ]
  },
  {
   "cell_type": "markdown",
   "metadata": {
    "colab_type": "text",
    "id": "jNWGtZaXn-5j"
   },
   "source": [
    "First, we'll download the dataset to our local machine. The data consists of characters rendered in a variety of fonts on a 28x28 image. The labels are limited to 'A' through 'J' (10 classes). The training set has about 500k and the testset 19000 labelled examples. Given these sizes, it should be possible to train models quickly on any machine."
   ]
  },
  {
   "cell_type": "code",
   "execution_count": 5,
   "metadata": {
    "cellView": "both",
    "colab": {
     "autoexec": {
      "startup": false,
      "wait_interval": 0
     },
     "output_extras": [
      {
       "item_id": 1
      }
     ]
    },
    "colab_type": "code",
    "collapsed": false,
    "executionInfo": {
     "elapsed": 186058,
     "status": "ok",
     "timestamp": 1444485672507,
     "user": {
      "color": "#1FA15D",
      "displayName": "Vincent Vanhoucke",
      "isAnonymous": false,
      "isMe": true,
      "permissionId": "05076109866853157986",
      "photoUrl": "//lh6.googleusercontent.com/-cCJa7dTDcgQ/AAAAAAAAAAI/AAAAAAAACgw/r2EZ_8oYer4/s50-c-k-no/photo.jpg",
      "sessionId": "2a0a5e044bb03b66",
      "userId": "102167687554210253930"
     },
     "user_tz": 420
    },
    "id": "EYRJ4ICW6-da",
    "outputId": "0d0f85df-155f-4a89-8e7e-ee32df36ec8d"
   },
   "outputs": [
    {
     "name": "stdout",
     "output_type": "stream",
     "text": [
      "Attempting to download: notMNIST_large.tar.gz\n",
      "0%....5%....10%....15%....20%....25%....30%....35%....40%....45%....50%....55%....60%....65%....70%....75%....80%....85%....90%....95%....100%\n",
      "Download Complete!\n",
      "Found and verified ./notMNIST_large.tar.gz\n",
      "Attempting to download: notMNIST_small.tar.gz\n",
      "0%....5%....10%....15%....20%....25%....30%....35%....40%....45%....50%....55%....60%....65%....70%....75%....80%....85%....90%....95%....100%\n",
      "Download Complete!\n",
      "Found and verified ./notMNIST_small.tar.gz\n"
     ]
    }
   ],
   "source": [
    "url = 'http://commondatastorage.googleapis.com/books1000/'\n",
    "last_percent_reported = None\n",
    "data_root = '.' # Change me to store data elsewhere\n",
    "\n",
    "def download_progress_hook(count, blockSize, totalSize):\n",
    "  \"\"\"A hook to report the progress of a download. This is mostly intended for users with\n",
    "  slow internet connections. Reports every 5% change in download progress.\n",
    "  \"\"\"\n",
    "  global last_percent_reported\n",
    "  percent = int(count * blockSize * 100 / totalSize)\n",
    "\n",
    "  if last_percent_reported != percent:\n",
    "    if percent % 5 == 0:\n",
    "      sys.stdout.write(\"%s%%\" % percent)\n",
    "      sys.stdout.flush()\n",
    "    else:\n",
    "      sys.stdout.write(\".\")\n",
    "      sys.stdout.flush()\n",
    "      \n",
    "    last_percent_reported = percent\n",
    "        \n",
    "def maybe_download(filename, expected_bytes, force=False):\n",
    "  \"\"\"Download a file if not present, and make sure it's the right size.\"\"\"\n",
    "  dest_filename = os.path.join(data_root, filename)\n",
    "  if force or not os.path.exists(dest_filename):\n",
    "    print('Attempting to download:', filename) \n",
    "    filename, _ = urlretrieve(url + filename, dest_filename, reporthook=download_progress_hook)\n",
    "    print('\\nDownload Complete!')\n",
    "  statinfo = os.stat(dest_filename)\n",
    "  if statinfo.st_size == expected_bytes:\n",
    "    print('Found and verified', dest_filename)\n",
    "  else:\n",
    "    raise Exception(\n",
    "      'Failed to verify ' + dest_filename + '. Can you get to it with a browser?')\n",
    "  return dest_filename\n",
    "\n",
    "train_filename = maybe_download('notMNIST_large.tar.gz', 247336696)\n",
    "test_filename = maybe_download('notMNIST_small.tar.gz', 8458043)"
   ]
  },
  {
   "cell_type": "markdown",
   "metadata": {
    "colab_type": "text",
    "id": "cC3p0oEyF8QT"
   },
   "source": [
    "Extract the dataset from the compressed .tar.gz file.\n",
    "This should give you a set of directories, labelled A through J."
   ]
  },
  {
   "cell_type": "code",
   "execution_count": 21,
   "metadata": {
    "cellView": "both",
    "colab": {
     "autoexec": {
      "startup": false,
      "wait_interval": 0
     },
     "output_extras": [
      {
       "item_id": 1
      }
     ]
    },
    "colab_type": "code",
    "collapsed": false,
    "executionInfo": {
     "elapsed": 186055,
     "status": "ok",
     "timestamp": 1444485672525,
     "user": {
      "color": "#1FA15D",
      "displayName": "Vincent Vanhoucke",
      "isAnonymous": false,
      "isMe": true,
      "permissionId": "05076109866853157986",
      "photoUrl": "//lh6.googleusercontent.com/-cCJa7dTDcgQ/AAAAAAAAAAI/AAAAAAAACgw/r2EZ_8oYer4/s50-c-k-no/photo.jpg",
      "sessionId": "2a0a5e044bb03b66",
      "userId": "102167687554210253930"
     },
     "user_tz": 420
    },
    "id": "H8CBE-WZ8nmj",
    "outputId": "ef6c790c-2513-4b09-962e-27c79390c762"
   },
   "outputs": [
    {
     "name": "stdout",
     "output_type": "stream",
     "text": [
      "Extracting data for ./notMNIST_large. This may take a while. Please wait.\n",
      "['./notMNIST_large/A', './notMNIST_large/B', './notMNIST_large/C', './notMNIST_large/D', './notMNIST_large/E', './notMNIST_large/F', './notMNIST_large/G', './notMNIST_large/H', './notMNIST_large/I', './notMNIST_large/J']\n",
      "Extracting data for ./notMNIST_small. This may take a while. Please wait.\n",
      "['./notMNIST_small/A', './notMNIST_small/B', './notMNIST_small/C', './notMNIST_small/D', './notMNIST_small/E', './notMNIST_small/F', './notMNIST_small/G', './notMNIST_small/H', './notMNIST_small/I', './notMNIST_small/J']\n"
     ]
    }
   ],
   "source": [
    "num_classes = 10\n",
    "np.random.seed(133)\n",
    "\n",
    "def maybe_extract(filename, force=False):\n",
    "  root = os.path.splitext(os.path.splitext(filename)[0])[0]  # remove .tar.gz\n",
    "  if os.path.isdir(root) and not force:\n",
    "    # You may override by setting force=True.\n",
    "    print('%s already present - Skipping extraction of %s.' % (root, filename))\n",
    "  else:\n",
    "    print('Extracting data for %s. This may take a while. Please wait.' % root)\n",
    "    tar = tarfile.open(filename)\n",
    "    sys.stdout.flush()\n",
    "    tar.extractall(data_root)\n",
    "    tar.close()\n",
    "  data_folders = [\n",
    "    os.path.join(root, d) for d in sorted(os.listdir(root))\n",
    "    if os.path.isdir(os.path.join(root, d))]\n",
    "  if len(data_folders) != num_classes:\n",
    "    raise Exception(\n",
    "      'Expected %d folders, one per class. Found %d instead.' % (\n",
    "        num_classes, len(data_folders)))\n",
    "  print(data_folders)\n",
    "  return data_folders\n",
    "  \n",
    "train_folders = maybe_extract(train_filename)\n",
    "test_folders = maybe_extract(test_filename)"
   ]
  },
  {
   "cell_type": "markdown",
   "metadata": {
    "colab_type": "text",
    "id": "4riXK3IoHgx6"
   },
   "source": [
    "---\n",
    "Problem 1\n",
    "---------\n",
    "\n",
    "Let's take a peek at some of the data to make sure it looks sensible. Each exemplar should be an image of a character A through J rendered in a different font. Display a sample of the images that we just downloaded. Hint: you can use the package IPython.display.\n",
    "\n",
    "---"
   ]
  },
  {
   "cell_type": "code",
   "execution_count": 22,
   "metadata": {
    "collapsed": false
   },
   "outputs": [
    {
     "data": {
      "image/png": "[encoded data removed]",
      "text/plain": [
       "<IPython.core.display.Image object>"
      ]
     },
     "metadata": {},
     "output_type": "display_data"
    }
   ],
   "source": [
    "from IPython.display import display, Image\n",
    "\n",
    "#display one of the letter 'A's\n",
    "display(Image(filename=\"notMNIST_small/A/Q0NXaWxkV29yZHMtQm9sZEl0YWxpYy50dGY=.png\"))"
   ]
  },
  {
   "cell_type": "markdown",
   "metadata": {
    "colab_type": "text",
    "id": "PBdkjESPK8tw"
   },
   "source": [
    "Now let's load the data in a more manageable format. Since, depending on your computer setup you might not be able to fit it all in memory, we'll load each class into a separate dataset, store them on disk and curate them independently. Later we'll merge them into a single dataset of manageable size.\n",
    "\n",
    "We'll convert the entire dataset into a 3D array (image index, x, y) of floating point values, normalized to have approximately zero mean and standard deviation ~0.5 to make training easier down the road. \n",
    "\n",
    "A few images might not be readable, we'll just skip them."
   ]
  },
  {
   "cell_type": "code",
   "execution_count": 23,
   "metadata": {
    "cellView": "both",
    "colab": {
     "autoexec": {
      "startup": false,
      "wait_interval": 0
     },
     "output_extras": [
      {
       "item_id": 30
      }
     ]
    },
    "colab_type": "code",
    "collapsed": false,
    "executionInfo": {
     "elapsed": 399874,
     "status": "ok",
     "timestamp": 1444485886378,
     "user": {
      "color": "#1FA15D",
      "displayName": "Vincent Vanhoucke",
      "isAnonymous": false,
      "isMe": true,
      "permissionId": "05076109866853157986",
      "photoUrl": "//lh6.googleusercontent.com/-cCJa7dTDcgQ/AAAAAAAAAAI/AAAAAAAACgw/r2EZ_8oYer4/s50-c-k-no/photo.jpg",
      "sessionId": "2a0a5e044bb03b66",
      "userId": "102167687554210253930"
     },
     "user_tz": 420
    },
    "id": "h7q0XhG3MJdf",
    "outputId": "92c391bb-86ff-431d-9ada-315568a19e59"
   },
   "outputs": [
    {
     "name": "stdout",
     "output_type": "stream",
     "text": [
      "Pickling ./notMNIST_large/A.pickle.\n",
      "./notMNIST_large/A\n",
      "Could not read: ./notMNIST_large/A/RnJlaWdodERpc3BCb29rSXRhbGljLnR0Zg==.png : cannot identify image file './notMNIST_large/A/RnJlaWdodERpc3BCb29rSXRhbGljLnR0Zg==.png' - it's ok, skipping.\n",
      "Could not read: ./notMNIST_large/A/SG90IE11c3RhcmQgQlROIFBvc3Rlci50dGY=.png : cannot identify image file './notMNIST_large/A/SG90IE11c3RhcmQgQlROIFBvc3Rlci50dGY=.png' - it's ok, skipping.\n",
      "Could not read: ./notMNIST_large/A/Um9tYW5hIEJvbGQucGZi.png : cannot identify image file './notMNIST_large/A/Um9tYW5hIEJvbGQucGZi.png' - it's ok, skipping.\n",
      "Full dataset tensor: (52909, 28, 28)\n",
      "Mean: -0.12825\n",
      "Standard deviation: 0.443121\n",
      "Pickling ./notMNIST_large/B.pickle.\n",
      "./notMNIST_large/B\n",
      "Could not read: ./notMNIST_large/B/TmlraXNFRi1TZW1pQm9sZEl0YWxpYy5vdGY=.png : cannot identify image file './notMNIST_large/B/TmlraXNFRi1TZW1pQm9sZEl0YWxpYy5vdGY=.png' - it's ok, skipping.\n",
      "Full dataset tensor: (52911, 28, 28)\n",
      "Mean: -0.00756303\n",
      "Standard deviation: 0.454491\n",
      "Pickling ./notMNIST_large/C.pickle.\n",
      "./notMNIST_large/C\n",
      "Full dataset tensor: (52912, 28, 28)\n",
      "Mean: -0.142258\n",
      "Standard deviation: 0.439806\n",
      "Pickling ./notMNIST_large/D.pickle.\n",
      "./notMNIST_large/D\n",
      "Could not read: ./notMNIST_large/D/VHJhbnNpdCBCb2xkLnR0Zg==.png : cannot identify image file './notMNIST_large/D/VHJhbnNpdCBCb2xkLnR0Zg==.png' - it's ok, skipping.\n",
      "Full dataset tensor: (52911, 28, 28)\n",
      "Mean: -0.0573678\n",
      "Standard deviation: 0.455648\n",
      "Pickling ./notMNIST_large/E.pickle.\n",
      "./notMNIST_large/E\n",
      "Full dataset tensor: (52912, 28, 28)\n",
      "Mean: -0.069899\n",
      "Standard deviation: 0.452942\n",
      "Pickling ./notMNIST_large/F.pickle.\n",
      "./notMNIST_large/F\n",
      "Full dataset tensor: (52912, 28, 28)\n",
      "Mean: -0.125583\n",
      "Standard deviation: 0.44709\n",
      "Pickling ./notMNIST_large/G.pickle.\n",
      "./notMNIST_large/G\n",
      "Full dataset tensor: (52912, 28, 28)\n",
      "Mean: -0.0945814\n",
      "Standard deviation: 0.44624\n",
      "Pickling ./notMNIST_large/H.pickle.\n",
      "./notMNIST_large/H\n",
      "Full dataset tensor: (52912, 28, 28)\n",
      "Mean: -0.0685221\n",
      "Standard deviation: 0.454232\n",
      "Pickling ./notMNIST_large/I.pickle.\n",
      "./notMNIST_large/I\n",
      "Full dataset tensor: (52912, 28, 28)\n",
      "Mean: 0.0307862\n",
      "Standard deviation: 0.468899\n",
      "Pickling ./notMNIST_large/J.pickle.\n",
      "./notMNIST_large/J\n",
      "Full dataset tensor: (52911, 28, 28)\n",
      "Mean: -0.153358\n",
      "Standard deviation: 0.443656\n",
      "Pickling ./notMNIST_small/A.pickle.\n",
      "./notMNIST_small/A\n",
      "Could not read: ./notMNIST_small/A/RGVtb2NyYXRpY2FCb2xkT2xkc3R5bGUgQm9sZC50dGY=.png : cannot identify image file './notMNIST_small/A/RGVtb2NyYXRpY2FCb2xkT2xkc3R5bGUgQm9sZC50dGY=.png' - it's ok, skipping.\n",
      "Full dataset tensor: (1872, 28, 28)\n",
      "Mean: -0.132626\n",
      "Standard deviation: 0.445128\n",
      "Pickling ./notMNIST_small/B.pickle.\n",
      "./notMNIST_small/B\n",
      "Full dataset tensor: (1873, 28, 28)\n",
      "Mean: 0.00535609\n",
      "Standard deviation: 0.457115\n",
      "Pickling ./notMNIST_small/C.pickle.\n",
      "./notMNIST_small/C\n",
      "Full dataset tensor: (1873, 28, 28)\n",
      "Mean: -0.141521\n",
      "Standard deviation: 0.44269\n",
      "Pickling ./notMNIST_small/D.pickle.\n",
      "./notMNIST_small/D\n",
      "Full dataset tensor: (1873, 28, 28)\n",
      "Mean: -0.0492167\n",
      "Standard deviation: 0.459759\n",
      "Pickling ./notMNIST_small/E.pickle.\n",
      "./notMNIST_small/E\n",
      "Full dataset tensor: (1873, 28, 28)\n",
      "Mean: -0.0599148\n",
      "Standard deviation: 0.45735\n",
      "Pickling ./notMNIST_small/F.pickle.\n",
      "./notMNIST_small/F\n",
      "Could not read: ./notMNIST_small/F/Q3Jvc3NvdmVyIEJvbGRPYmxpcXVlLnR0Zg==.png : cannot identify image file './notMNIST_small/F/Q3Jvc3NvdmVyIEJvbGRPYmxpcXVlLnR0Zg==.png' - it's ok, skipping.\n",
      "Full dataset tensor: (1872, 28, 28)\n",
      "Mean: -0.118185\n",
      "Standard deviation: 0.452279\n",
      "Pickling ./notMNIST_small/G.pickle.\n",
      "./notMNIST_small/G\n",
      "Full dataset tensor: (1872, 28, 28)\n",
      "Mean: -0.0925503\n",
      "Standard deviation: 0.449006\n",
      "Pickling ./notMNIST_small/H.pickle.\n",
      "./notMNIST_small/H\n",
      "Full dataset tensor: (1872, 28, 28)\n",
      "Mean: -0.0586893\n",
      "Standard deviation: 0.458759\n",
      "Pickling ./notMNIST_small/I.pickle.\n",
      "./notMNIST_small/I\n",
      "Full dataset tensor: (1872, 28, 28)\n",
      "Mean: 0.0526451\n",
      "Standard deviation: 0.471894\n",
      "Pickling ./notMNIST_small/J.pickle.\n",
      "./notMNIST_small/J\n",
      "Full dataset tensor: (1872, 28, 28)\n",
      "Mean: -0.151689\n",
      "Standard deviation: 0.448014\n"
     ]
    }
   ],
   "source": [
    "#convert everything in an N dimmensional array, with binary value there of if it's black or white\n",
    "\n",
    "image_size = 28  # Pixel width and height.\n",
    "pixel_depth = 255.0  # Number of levels per pixel.\n",
    "\n",
    "def load_letter(folder, min_num_images):\n",
    "  \"\"\"Load the data for a single letter label.\"\"\"\n",
    "  image_files = os.listdir(folder)\n",
    "  dataset = np.ndarray(shape=(len(image_files), image_size, image_size),\n",
    "                         dtype=np.float32)\n",
    "  print(folder)\n",
    "  num_images = 0\n",
    "  for image in image_files:\n",
    "    image_file = os.path.join(folder, image)\n",
    "    try:\n",
    "      image_data = (ndimage.imread(image_file).astype(float) - \n",
    "                    pixel_depth / 2) / pixel_depth\n",
    "      if image_data.shape != (image_size, image_size):\n",
    "        raise Exception('Unexpected image shape: %s' % str(image_data.shape))\n",
    "      dataset[num_images, :, :] = image_data\n",
    "      num_images = num_images + 1\n",
    "    except IOError as e:\n",
    "      print('Could not read:', image_file, ':', e, '- it\\'s ok, skipping.')\n",
    "    \n",
    "  dataset = dataset[0:num_images, :, :]\n",
    "  if num_images < min_num_images:\n",
    "    raise Exception('Many fewer images than expected: %d < %d' %\n",
    "                    (num_images, min_num_images))\n",
    "    \n",
    "  print('Full dataset tensor:', dataset.shape)\n",
    "  print('Mean:', np.mean(dataset))\n",
    "  print('Standard deviation:', np.std(dataset))\n",
    "  return dataset\n",
    " \n",
    "#save each as a pickle object along the way\n",
    "def maybe_pickle(data_folders, min_num_images_per_class, force=False):\n",
    "  dataset_names = []\n",
    "  for folder in data_folders:\n",
    "    set_filename = folder + '.pickle'\n",
    "    dataset_names.append(set_filename)\n",
    "    if os.path.exists(set_filename) and not force:\n",
    "      # You may override by setting force=True.\n",
    "      print('%s already present - Skipping pickling.' % set_filename)\n",
    "    else:\n",
    "      print('Pickling %s.' % set_filename)\n",
    "      dataset = load_letter(folder, min_num_images_per_class)\n",
    "      try:\n",
    "        with open(set_filename, 'wb') as f:\n",
    "          pickle.dump(dataset, f, pickle.HIGHEST_PROTOCOL)\n",
    "      except Exception as e:\n",
    "        print('Unable to save data to', set_filename, ':', e)\n",
    "  \n",
    "  return dataset_names\n",
    "\n",
    "train_datasets = maybe_pickle(train_folders, 45000)\n",
    "test_datasets = maybe_pickle(test_folders, 1800)"
   ]
  },
  {
   "cell_type": "markdown",
   "metadata": {
    "colab_type": "text",
    "id": "vUdbskYE2d87"
   },
   "source": [
    "---\n",
    "Problem 2\n",
    "---------\n",
    "\n",
    "Let's verify that the data still looks good. Displaying a sample of the labels and images from the ndarray. Hint: you can use matplotlib.pyplot.\n",
    "\n",
    "---"
   ]
  },
  {
   "cell_type": "code",
   "execution_count": 24,
   "metadata": {
    "collapsed": false
   },
   "outputs": [
    {
     "data": {
      "image/png": "[encoded data removed]",
      "text/plain": [
       "<matplotlib.figure.Figure at 0x10e1b1e90>"
      ]
     },
     "metadata": {},
     "output_type": "display_data"
    }
   ],
   "source": [
    "pickle_file = train_datasets[6]  # index 0 should be all As, 1 = all Bs, etc.\n",
    "with open(pickle_file, 'rb') as f:\n",
    "    letter_set = pickle.load(f)  # unpickle\n",
    "    sample_idx = np.random.randint(len(letter_set))  # pick a random image index\n",
    "    sample_image = letter_set[sample_idx, :, :]  # extract a 2D slice\n",
    "    plt.figure()\n",
    "    plt.imshow(sample_image)  # display it"
   ]
  },
  {
   "cell_type": "markdown",
   "metadata": {
    "colab_type": "text",
    "id": "cYznx5jUwzoO"
   },
   "source": [
    "---\n",
    "Problem 3\n",
    "---------\n",
    "Another check: we expect the data to be balanced across classes. Verify that.\n",
    "\n",
    "---"
   ]
  },
  {
   "cell_type": "code",
   "execution_count": 25,
   "metadata": {
    "collapsed": false,
    "scrolled": true
   },
   "outputs": [
    {
     "name": "stdout",
     "output_type": "stream",
     "text": [
      "52909\n",
      "52911\n",
      "52912\n",
      "52911\n",
      "52912\n",
      "52912\n",
      "52912\n",
      "52912\n",
      "52912\n",
      "52911\n"
     ]
    }
   ],
   "source": [
    "# index 0 should be all As, 1 = all Bs, etc. All have around 52900\n",
    "\n",
    "\n",
    "\n",
    "for i in range(0,10):\n",
    "    pickle_file = train_datasets[i]\n",
    "    with open(pickle_file, 'rb') as f:\n",
    "        letter_set = pickle.load(f)  # unpickle\n",
    "        print(len(letter_set))"
   ]
  },
  {
   "cell_type": "markdown",
   "metadata": {
    "colab_type": "text",
    "id": "LA7M7K22ynCt"
   },
   "source": [
    "Merge and prune the training data as needed. Depending on your computer setup, you might not be able to fit it all in memory, and you can tune `train_size` as needed. The labels will be stored into a separate array of integers 0 through 9.\n",
    "\n",
    "Also create a validation dataset for hyperparameter tuning."
   ]
  },
  {
   "cell_type": "code",
   "execution_count": 26,
   "metadata": {
    "cellView": "both",
    "colab": {
     "autoexec": {
      "startup": false,
      "wait_interval": 0
     },
     "output_extras": [
      {
       "item_id": 1
      }
     ]
    },
    "colab_type": "code",
    "collapsed": false,
    "executionInfo": {
     "elapsed": 411281,
     "status": "ok",
     "timestamp": 1444485897869,
     "user": {
      "color": "#1FA15D",
      "displayName": "Vincent Vanhoucke",
      "isAnonymous": false,
      "isMe": true,
      "permissionId": "05076109866853157986",
      "photoUrl": "//lh6.googleusercontent.com/-cCJa7dTDcgQ/AAAAAAAAAAI/AAAAAAAACgw/r2EZ_8oYer4/s50-c-k-no/photo.jpg",
      "sessionId": "2a0a5e044bb03b66",
      "userId": "102167687554210253930"
     },
     "user_tz": 420
    },
    "id": "s3mWgZLpyuzq",
    "outputId": "8af66da6-902d-4719-bedc-7c9fb7ae7948"
   },
   "outputs": [
    {
     "name": "stdout",
     "output_type": "stream",
     "text": [
      "Training: (200000, 28, 28) (200000,)\n",
      "Validation: (10000, 28, 28) (10000,)\n",
      "Testing: (10000, 28, 28) (10000,)\n"
     ]
    }
   ],
   "source": [
    "#putting all the individual pickles into one pickle. Used for saving memory\n",
    "\n",
    "def make_arrays(nb_rows, img_size):\n",
    "  if nb_rows:\n",
    "    dataset = np.ndarray((nb_rows, img_size, img_size), dtype=np.float32)\n",
    "    labels = np.ndarray(nb_rows, dtype=np.int32)\n",
    "  else:\n",
    "    dataset, labels = None, None\n",
    "  return dataset, labels\n",
    "\n",
    "def merge_datasets(pickle_files, train_size, valid_size=0):\n",
    "  num_classes = len(pickle_files)\n",
    "  valid_dataset, valid_labels = make_arrays(valid_size, image_size)\n",
    "  train_dataset, train_labels = make_arrays(train_size, image_size)\n",
    "  vsize_per_class = valid_size // num_classes\n",
    "  tsize_per_class = train_size // num_classes\n",
    "    \n",
    "  start_v, start_t = 0, 0\n",
    "  end_v, end_t = vsize_per_class, tsize_per_class\n",
    "  end_l = vsize_per_class+tsize_per_class\n",
    "  for label, pickle_file in enumerate(pickle_files):       \n",
    "    try:\n",
    "      with open(pickle_file, 'rb') as f:\n",
    "        letter_set = pickle.load(f)\n",
    "        # let's shuffle the letters to have random validation and training set\n",
    "        np.random.shuffle(letter_set)\n",
    "        if valid_dataset is not None:\n",
    "          valid_letter = letter_set[:vsize_per_class, :, :]\n",
    "          valid_dataset[start_v:end_v, :, :] = valid_letter\n",
    "          valid_labels[start_v:end_v] = label\n",
    "          start_v += vsize_per_class\n",
    "          end_v += vsize_per_class\n",
    "                    \n",
    "        train_letter = letter_set[vsize_per_class:end_l, :, :]\n",
    "        train_dataset[start_t:end_t, :, :] = train_letter\n",
    "        train_labels[start_t:end_t] = label\n",
    "        start_t += tsize_per_class\n",
    "        end_t += tsize_per_class\n",
    "    except Exception as e:\n",
    "      print('Unable to process data from', pickle_file, ':', e)\n",
    "      raise\n",
    "    \n",
    "  return valid_dataset, valid_labels, train_dataset, train_labels\n",
    "            \n",
    "            \n",
    "train_size = 200000\n",
    "valid_size = 10000\n",
    "test_size = 10000\n",
    "\n",
    "valid_dataset, valid_labels, train_dataset, train_labels = merge_datasets(\n",
    "  train_datasets, train_size, valid_size)\n",
    "_, _, test_dataset, test_labels = merge_datasets(test_datasets, test_size)\n",
    "\n",
    "print('Training:', train_dataset.shape, train_labels.shape)\n",
    "print('Validation:', valid_dataset.shape, valid_labels.shape)\n",
    "print('Testing:', test_dataset.shape, test_labels.shape)"
   ]
  },
  {
   "cell_type": "markdown",
   "metadata": {
    "colab_type": "text",
    "id": "GPTCnjIcyuKN"
   },
   "source": [
    "Next, we'll randomize the data. It's important to have the labels well shuffled for the training and test distributions to match."
   ]
  },
  {
   "cell_type": "code",
   "execution_count": 27,
   "metadata": {
    "cellView": "both",
    "colab": {
     "autoexec": {
      "startup": false,
      "wait_interval": 0
     }
    },
    "colab_type": "code",
    "collapsed": true,
    "id": "6WZ2l2tN2zOL"
   },
   "outputs": [],
   "source": [
    "def randomize(dataset, labels):\n",
    "  permutation = np.random.permutation(labels.shape[0])\n",
    "  shuffled_dataset = dataset[permutation,:,:]\n",
    "  shuffled_labels = labels[permutation]\n",
    "  return shuffled_dataset, shuffled_labels\n",
    "train_dataset, train_labels = randomize(train_dataset, train_labels)\n",
    "test_dataset, test_labels = randomize(test_dataset, test_labels)\n",
    "valid_dataset, valid_labels = randomize(valid_dataset, valid_labels)"
   ]
  },
  {
   "cell_type": "markdown",
   "metadata": {
    "colab_type": "text",
    "id": "puDUTe6t6USl"
   },
   "source": [
    "---\n",
    "Problem 4\n",
    "---------\n",
    "Convince yourself that the data is still good after shuffling!\n",
    "\n",
    "---"
   ]
  },
  {
   "cell_type": "markdown",
   "metadata": {
    "colab_type": "text",
    "id": "tIQJaJuwg5Hw"
   },
   "source": [
    "Finally, let's save the data for later reuse:"
   ]
  },
  {
   "cell_type": "code",
   "execution_count": 28,
   "metadata": {
    "cellView": "both",
    "colab": {
     "autoexec": {
      "startup": false,
      "wait_interval": 0
     }
    },
    "colab_type": "code",
    "collapsed": true,
    "id": "QiR_rETzem6C"
   },
   "outputs": [],
   "source": [
    "pickle_file = os.path.join(data_root, 'notMNIST.pickle')\n",
    "\n",
    "try:\n",
    "  f = open(pickle_file, 'wb')\n",
    "  save = {\n",
    "    'train_dataset': train_dataset,\n",
    "    'train_labels': train_labels,\n",
    "    'valid_dataset': valid_dataset,\n",
    "    'valid_labels': valid_labels,\n",
    "    'test_dataset': test_dataset,\n",
    "    'test_labels': test_labels,\n",
    "    }\n",
    "  pickle.dump(save, f, pickle.HIGHEST_PROTOCOL)\n",
    "  f.close()\n",
    "except Exception as e:\n",
    "  print('Unable to save data to', pickle_file, ':', e)\n",
    "  raise"
   ]
  },
  {
   "cell_type": "code",
   "execution_count": 29,
   "metadata": {
    "cellView": "both",
    "colab": {
     "autoexec": {
      "startup": false,
      "wait_interval": 0
     },
     "output_extras": [
      {
       "item_id": 1
      }
     ]
    },
    "colab_type": "code",
    "collapsed": false,
    "executionInfo": {
     "elapsed": 413065,
     "status": "ok",
     "timestamp": 1444485899688,
     "user": {
      "color": "#1FA15D",
      "displayName": "Vincent Vanhoucke",
      "isAnonymous": false,
      "isMe": true,
      "permissionId": "05076109866853157986",
      "photoUrl": "//lh6.googleusercontent.com/-cCJa7dTDcgQ/AAAAAAAAAAI/AAAAAAAACgw/r2EZ_8oYer4/s50-c-k-no/photo.jpg",
      "sessionId": "2a0a5e044bb03b66",
      "userId": "102167687554210253930"
     },
     "user_tz": 420
    },
    "id": "hQbLjrW_iT39",
    "outputId": "b440efc6-5ee1-4cbc-d02d-93db44ebd956"
   },
   "outputs": [
    {
     "name": "stdout",
     "output_type": "stream",
     "text": [
      "Compressed pickle size: 690800441\n"
     ]
    }
   ],
   "source": [
    "statinfo = os.stat(pickle_file)\n",
    "print('Compressed pickle size:', statinfo.st_size)"
   ]
  },
  {
   "cell_type": "markdown",
   "metadata": {
    "colab_type": "text",
    "id": "gE_cRAQB33lk"
   },
   "source": [
    "---\n",
    "Problem 5\n",
    "---------\n",
    "\n",
    "By construction, this dataset might contain a lot of overlapping samples, including training data that's also contained in the validation and test set! Overlap between training and test can skew the results if you expect to use your model in an environment where there is never an overlap, but are actually ok if you expect to see training samples recur when you use it.\n",
    "Measure how much overlap there is between training, validation and test samples.\n",
    "\n",
    "Optional questions:\n",
    "- What about near duplicates between datasets? (images that are almost identical)\n",
    "- Create a sanitized validation and test set, and compare your accuracy on those in subsequent assignments.\n",
    "---"
   ]
  },
  {
   "cell_type": "code",
   "execution_count": 33,
   "metadata": {
    "collapsed": false
   },
   "outputs": [
    {
     "name": "stdout",
     "output_type": "stream",
     "text": [
      "[[-0.5        -0.49607843 -0.5        -0.42156863  0.31568629  0.46470588\n",
      "  -0.30784315 -0.17058824  0.5         0.19803922 -0.46470588  0.20980392\n",
      "   0.5        -0.23333333 -0.22941177  0.5         0.20980392 -0.46078432\n",
      "   0.20980392  0.5        -0.21372549 -0.43333334  0.37058824  0.40980393\n",
      "  -0.33529413 -0.5        -0.49215686 -0.5       ]\n",
      " [-0.49607843 -0.47647059 -0.5        -0.19803922  0.5         0.5\n",
      "   0.01764706  0.16666667  0.5         0.44901961 -0.13921569  0.45294118\n",
      "   0.5         0.09607843  0.09607843  0.5         0.45294118 -0.13529412\n",
      "   0.45294118  0.5         0.08431373 -0.19019608  0.5         0.5\n",
      "  -0.04901961 -0.5        -0.47254902 -0.49607843]\n",
      " [-0.49607843 -0.49607843 -0.5        -0.43333334  0.19019608  0.31960785\n",
      "  -0.3392157  -0.22156863  0.36666667  0.09215686 -0.48039216  0.12352941\n",
      "   0.40196079 -0.2764706  -0.2764706   0.40196079  0.12352941 -0.47647059\n",
      "   0.10392157  0.35490197 -0.25686276 -0.44509804  0.2372549   0.27254903\n",
      "  -0.35882354 -0.5        -0.49607843 -0.49607843]\n",
      " [-0.45686275 -0.28039217 -0.43333334 -0.5        -0.37058824 -0.31176472\n",
      "  -0.5        -0.49215686 -0.28431374 -0.4137255  -0.5        -0.49607843\n",
      "  -0.49215686 -0.5        -0.5        -0.49215686 -0.49607843 -0.5\n",
      "  -0.40980393 -0.29215688 -0.49607843 -0.5        -0.35490197 -0.33137256\n",
      "  -0.5        -0.45686275 -0.28039217 -0.44117647]\n",
      " [ 0.19411765  0.5         0.20588236 -0.32352942  0.44117647  0.5\n",
      "  -0.16666667 -0.01764706  0.5         0.35490197 -0.41764706 -0.5\n",
      "  -0.49215686 -0.49215686 -0.49215686 -0.49215686 -0.5        -0.4137255\n",
      "   0.36274511  0.5        -0.07647059 -0.33529413  0.48823529  0.5\n",
      "  -0.24117647  0.1         0.5         0.25294119]\n",
      " [ 0.37058824  0.5         0.34313726 -0.15882353  0.5         0.5\n",
      "  -0.00588235  0.13921569  0.5         0.47647059 -0.3392157  -0.5\n",
      "  -0.48823529 -0.5        -0.5        -0.48823529 -0.5        -0.33529413\n",
      "   0.47647059  0.5         0.06078431 -0.21764706  0.5         0.5\n",
      "  -0.08039216  0.24117647  0.5         0.42156863]\n",
      " [-0.31960785  0.07647059 -0.2764706  -0.5        -0.1         0.01764706\n",
      "  -0.47647059 -0.40980393  0.06862745 -0.19019608 -0.5        -0.49607843\n",
      "  -0.5        -0.5        -0.5        -0.5        -0.49607843 -0.5\n",
      "  -0.13137256  0.10392157 -0.39411765 -0.5        -0.06078431 -0.01764706\n",
      "  -0.5        -0.33137256  0.07647059 -0.2764706 ]\n",
      " [-0.21372549  0.19803922 -0.17058824 -0.5         0.0254902   0.14705883\n",
      "  -0.42156863 -0.33137256  0.19019608 -0.07254902 -0.5        -0.49607843\n",
      "  -0.5        -0.5        -0.5        -0.5        -0.5        -0.5        -0.5\n",
      "  -0.49607843 -0.5        -0.46470588  0.05686275  0.10784314 -0.46862745\n",
      "  -0.24509804  0.19803922 -0.16666667]\n",
      " [ 0.38235295  0.5         0.3509804  -0.14313726  0.5         0.5\n",
      "   0.00980392  0.1627451   0.5         0.48823529 -0.32745099 -0.5\n",
      "  -0.48039216 -0.5        -0.5        -0.48823529 -0.49215686 -0.5\n",
      "  -0.48823529 -0.46862745 -0.5        -0.13921569  0.5         0.5\n",
      "  -0.05294118  0.26078433  0.5         0.44117647]\n",
      " [ 0.06470589  0.45686275  0.0882353  -0.39019608  0.30784315  0.4254902\n",
      "  -0.25294119 -0.12352941  0.46078432  0.21764706 -0.45294118 -0.5\n",
      "  -0.49607843 -0.49607843 -0.49607843 -0.5        -0.5        -0.49607843\n",
      "  -0.5        -0.49215686 -0.5        -0.34705883  0.38235295  0.43333334\n",
      "  -0.32745099  0.00196078  0.5         0.13921569]\n",
      " [-0.42941177 -0.11176471 -0.39411765 -0.5        -0.26078433 -0.1627451\n",
      "  -0.5        -0.48039216 -0.12352941 -0.33137256 -0.5        -0.35490197\n",
      "  -0.22941177 -0.48823529 -0.48823529 -0.22941177 -0.36274511 -0.5\n",
      "  -0.49607843 -0.5        -0.5        -0.5        -0.43333334 -0.42156863\n",
      "  -0.5        -0.48823529 -0.39803922 -0.48039216]\n",
      " [ 0.24117647  0.5         0.24117647 -0.28823531  0.46078432  0.5\n",
      "  -0.13137256  0.01764706  0.5         0.36274511 -0.30784315  0.36666667\n",
      "   0.5        -0.05686275 -0.05686275  0.5         0.39019608 -0.40196079\n",
      "  -0.5        -0.49215686 -0.5        -0.49607843 -0.49607843 -0.5\n",
      "  -0.49215686 -0.49607843 -0.5        -0.49215686]\n",
      " [ 0.36274511  0.5         0.33137256 -0.17843138  0.5         0.5\n",
      "  -0.01372549  0.12352941  0.5         0.43333334 -0.19019608  0.43725491\n",
      "   0.5         0.05294118  0.05686275  0.5         0.47254902 -0.34313726\n",
      "  -0.5        -0.49215686 -0.5        -0.5        -0.49607843 -0.49607843\n",
      "  -0.5        -0.5        -0.49215686 -0.5       ]\n",
      " [-0.35882354  0.0254902  -0.30784315 -0.5        -0.14705883 -0.03333334\n",
      "  -0.49215686 -0.42941177  0.01372549 -0.22941177 -0.5        -0.21764706\n",
      "   0.00196078 -0.45294118 -0.45294118  0.00196078 -0.22156863 -0.5\n",
      "  -0.49607843 -0.5        -0.5        -0.5        -0.5        -0.5        -0.5\n",
      "  -0.5        -0.5        -0.5       ]\n",
      " [-0.1509804   0.26078433 -0.11176471 -0.48823529  0.09215686  0.21372549\n",
      "  -0.38627452 -0.28431374  0.25686276 -0.00588235 -0.5         0.00588235\n",
      "   0.24901961 -0.33137256 -0.32745099  0.24901961  0.00588235 -0.5        -0.5\n",
      "  -0.5        -0.5        -0.5        -0.5        -0.5        -0.5        -0.5\n",
      "  -0.5        -0.5       ]\n",
      " [ 0.38627452  0.5         0.3509804  -0.13921569  0.5         0.5\n",
      "   0.01764706  0.1627451   0.5         0.44901961 -0.13921569  0.45294118\n",
      "   0.5         0.09607843  0.09607843  0.5         0.49215686 -0.31960785\n",
      "  -0.5        -0.49215686 -0.5        -0.5        -0.49607843 -0.49607843\n",
      "  -0.5        -0.5        -0.49215686 -0.5       ]\n",
      " [ 0.02156863  0.44901961  0.05294118 -0.42156863  0.28431374  0.40588236\n",
      "  -0.28823531 -0.15882353  0.44901961  0.17450981 -0.44117647  0.19411765\n",
      "   0.46862745 -0.2254902  -0.22156863  0.46470588  0.19803922 -0.47254902\n",
      "  -0.5        -0.49607843 -0.5        -0.49607843 -0.49607843 -0.5\n",
      "  -0.49215686 -0.49607843 -0.5        -0.49215686]\n",
      " [-0.48431373 -0.3392157  -0.46470588 -0.5        -0.40980393 -0.36666667\n",
      "  -0.5        -0.5        -0.34705883 -0.44509804 -0.5        -0.47647059\n",
      "  -0.44901961 -0.5        -0.5        -0.44901961 -0.48039216 -0.5        -0.5\n",
      "  -0.5        -0.5        -0.5        -0.43333334 -0.42156863 -0.5\n",
      "  -0.48823529 -0.39803922 -0.48039216]\n",
      " [ 0.08431373  0.5         0.10784314 -0.39019608  0.34313726  0.46470588\n",
      "  -0.24509804 -0.11176471  0.5         0.24509804 -0.45294118 -0.5\n",
      "  -0.49607843 -0.49607843 -0.49607843 -0.5        -0.49215686 -0.49607843\n",
      "  -0.5        -0.49215686 -0.5        -0.34705883  0.38235295  0.43333334\n",
      "  -0.32352942  0.00588235  0.5         0.13921569]\n",
      " [ 0.38235295  0.5         0.3509804  -0.14313726  0.5         0.5\n",
      "   0.00980392  0.1627451   0.5         0.48823529 -0.32745099 -0.5\n",
      "  -0.48823529 -0.5        -0.5        -0.49607843 -0.5        -0.5\n",
      "  -0.48823529 -0.46862745 -0.5        -0.13921569  0.5         0.5\n",
      "  -0.05294118  0.26078433  0.5         0.44117647]\n",
      " [-0.21764706  0.19803922 -0.17058824 -0.5         0.0254902   0.14705883\n",
      "  -0.4254902  -0.33529413  0.19019608 -0.07254902 -0.5        -0.49607843\n",
      "  -0.5        -0.5        -0.5        -0.5        -0.5        -0.5        -0.5\n",
      "  -0.49607843 -0.5        -0.46470588  0.05686275  0.10784314 -0.47254902\n",
      "  -0.24509804  0.20196079 -0.16666667]\n",
      " [-0.31960785  0.07254902 -0.2764706  -0.5        -0.1         0.01764706\n",
      "  -0.47647059 -0.40980393  0.06470589 -0.19019608 -0.5        -0.49607843\n",
      "  -0.5        -0.5        -0.5        -0.5        -0.49607843 -0.5\n",
      "  -0.13137256  0.1        -0.39803922 -0.5        -0.06470589 -0.02156863\n",
      "  -0.5        -0.33137256  0.07254902 -0.28039217]\n",
      " [ 0.37058824  0.5         0.34313726 -0.15882353  0.5         0.5\n",
      "  -0.00588235  0.13921569  0.5         0.47647059 -0.3392157  -0.5\n",
      "  -0.48431373 -0.5        -0.5        -0.48431373 -0.5        -0.33529413\n",
      "   0.48039216  0.5         0.06078431 -0.21764706  0.5         0.5\n",
      "  -0.08039216  0.24117647  0.5         0.42156863]\n",
      " [ 0.19411765  0.5         0.20588236 -0.31960785  0.4254902   0.5\n",
      "  -0.1627451  -0.02156863  0.5         0.34313726 -0.4137255  -0.5\n",
      "  -0.49607843 -0.49607843 -0.49607843 -0.49607843 -0.5        -0.40980393\n",
      "   0.34705883  0.5        -0.07647059 -0.33137256  0.46862745  0.49215686\n",
      "  -0.24117647  0.1         0.5         0.25686276]\n",
      " [-0.45686275 -0.2764706  -0.42941177 -0.5        -0.28039217 -0.18235295\n",
      "  -0.5        -0.48431373 -0.14313726 -0.34313726 -0.5        -0.43333334\n",
      "  -0.36274511 -0.5        -0.5        -0.36274511 -0.43333334 -0.5\n",
      "  -0.33529413 -0.15490197 -0.48823529 -0.5        -0.24901961 -0.21372549\n",
      "  -0.5        -0.45686275 -0.2764706  -0.44117647]\n",
      " [-0.49607843 -0.49215686 -0.5        -0.35490197  0.35882354  0.46470588\n",
      "  -0.21372549 -0.07647059  0.5         0.26078433 -0.37843138  0.28823531\n",
      "   0.5        -0.14313726 -0.13921569  0.5         0.28431374 -0.37450981\n",
      "   0.26862746  0.49607843 -0.12745099 -0.36274511  0.40588236  0.42941177\n",
      "  -0.25294119 -0.5        -0.49215686 -0.49607843]\n",
      " [-0.49607843 -0.47647059 -0.5        -0.20588236  0.5         0.5\n",
      "   0.00196078  0.14705883  0.5         0.44117647 -0.1627451   0.44509804\n",
      "   0.5         0.07647059  0.07647059  0.5         0.44509804 -0.15882353\n",
      "   0.44509804  0.5         0.07254902 -0.20588236  0.5         0.5\n",
      "  -0.06862745 -0.5        -0.47254902 -0.49607843]\n",
      " [-0.5        -0.49607843 -0.5        -0.48823529  0.05294118  0.19411765\n",
      "  -0.42941177 -0.33137256  0.24901961 -0.04509804 -0.5        -0.03333334\n",
      "   0.24117647 -0.37843138 -0.37843138  0.24117647 -0.03333334 -0.5\n",
      "  -0.03333334  0.23333333 -0.35882354 -0.5         0.10392157  0.14705883\n",
      "  -0.44509804 -0.5        -0.49607843 -0.5       ]]\n"
     ]
    },
    {
     "data": {
      "text/plain": [
       "'counter = 0\\n\\nfor index, image in enumerate(train_dataset):\\n    if image in test_dataset:\\n        counter += 1\\n        \\nprint(counter)'"
      ]
     },
     "execution_count": 33,
     "metadata": {},
     "output_type": "execute_result"
    }
   ],
   "source": [
    "print(train_dataset[0])\n",
    "\n",
    "\"\"\"counter = 0\n",
    "\n",
    "for index, image in enumerate(train_dataset):\n",
    "    if image in test_dataset:\n",
    "        counter += 1\n",
    "        \n",
    "print(counter)\"\"\""
   ]
  },
  {
   "cell_type": "markdown",
   "metadata": {
    "colab_type": "text",
    "id": "L8oww1s4JMQx"
   },
   "source": [
    "---\n",
    "Problem 6\n",
    "---------\n",
    "\n",
    "Let's get an idea of what an off-the-shelf classifier can give you on this data. It's always good to check that there is something to learn, and that it's a problem that is not so trivial that a canned solution solves it.\n",
    "\n",
    "Train a simple model on this data using 50, 100, 1000 and 5000 training samples. Hint: you can use the LogisticRegression model from sklearn.linear_model.\n",
    "\n",
    "Optional question: train an off-the-shelf model on all the data!\n",
    "\n",
    "---"
   ]
  },
  {
   "cell_type": "code",
   "execution_count": 36,
   "metadata": {
    "collapsed": false
   },
   "outputs": [
    {
     "name": "stdout",
     "output_type": "stream",
     "text": [
      "[0.57986000000000004]\n",
      "[0.62749999999999995]\n",
      "[0.57450000000000001]\n",
      "[0.57986000000000004, 0.66772500000000001]\n",
      "[0.62749999999999995, 0.73560000000000003]\n",
      "[0.57450000000000001, 0.66390000000000005]\n",
      "[0.57986000000000004, 0.66772500000000001, 0.749]\n",
      "[0.62749999999999995, 0.73560000000000003, 0.82020000000000004]\n",
      "[0.57450000000000001, 0.66390000000000005, 0.74719999999999998]\n",
      "[0.57986000000000004, 0.66772500000000001, 0.749, 0.75640499999999999]\n",
      "[0.62749999999999995, 0.73560000000000003, 0.82020000000000004, 0.83450000000000002]\n",
      "[0.57450000000000001, 0.66390000000000005, 0.74719999999999998, 0.75639999999999996]\n",
      "[0.57986000000000004, 0.66772500000000001, 0.749, 0.75640499999999999, 0.76651000000000002]\n",
      "[0.62749999999999995, 0.73560000000000003, 0.82020000000000004, 0.83450000000000002, 0.83640000000000003]\n",
      "[0.57450000000000001, 0.66390000000000005, 0.74719999999999998, 0.75639999999999996, 0.76400000000000001]\n",
      "[0.57986000000000004, 0.66772500000000001, 0.749, 0.75640499999999999, 0.76651000000000002, 0.76494499999999999]\n",
      "[0.62749999999999995, 0.73560000000000003, 0.82020000000000004, 0.83450000000000002, 0.83640000000000003, 0.84250000000000003]\n",
      "[0.57450000000000001, 0.66390000000000005, 0.74719999999999998, 0.75639999999999996, 0.76400000000000001, 0.75949999999999995]\n",
      "[0.57986000000000004, 0.66772500000000001, 0.749, 0.75640499999999999, 0.76651000000000002, 0.76494499999999999, 0.78351499999999996]\n",
      "[0.62749999999999995, 0.73560000000000003, 0.82020000000000004, 0.83450000000000002, 0.83640000000000003, 0.84250000000000003, 0.85419999999999996]\n",
      "[0.57450000000000001, 0.66390000000000005, 0.74719999999999998, 0.75639999999999996, 0.76400000000000001, 0.75949999999999995, 0.77229999999999999]\n",
      "[0.57986000000000004, 0.66772500000000001, 0.749, 0.75640499999999999, 0.76651000000000002, 0.76494499999999999, 0.78351499999999996, 0.79562500000000003]\n",
      "[0.62749999999999995, 0.73560000000000003, 0.82020000000000004, 0.83450000000000002, 0.83640000000000003, 0.84250000000000003, 0.85419999999999996, 0.86339999999999995]\n",
      "[0.57450000000000001, 0.66390000000000005, 0.74719999999999998, 0.75639999999999996, 0.76400000000000001, 0.75949999999999995, 0.77229999999999999, 0.78890000000000005]\n"
     ]
    }
   ],
   "source": [
    "import random\n",
    "import sklearn\n",
    "from sklearn.linear_model import LogisticRegression\n",
    "\n",
    "train_dataset_lin = train_dataset.reshape(train_dataset.shape[0],train_dataset.shape[1]*train_dataset.shape[2])\n",
    "test_dataset_lin = test_dataset.reshape(test_dataset.shape[0],test_dataset.shape[1]*test_dataset.shape[2])\n",
    "valid_dataset_lin = valid_dataset.reshape(valid_dataset.shape[0],valid_dataset.shape[1]*valid_dataset.shape[2])\n",
    "\n",
    "score_train=[]\n",
    "score_test=[]\n",
    "score_valid=[]\n",
    "numel_vector = [50, 100, 250, 500, 1000, 2500, 5000, 10000]\n",
    "for numel in numel_vector:\n",
    "    logreg = LogisticRegression() #C=1e5 C=0.001\n",
    "    idx = random.sample(range(len(train_labels)),numel)\n",
    "    logreg.fit(train_dataset_lin[idx,:], train_labels[idx])\n",
    "              \n",
    "    res = logreg.predict(train_dataset_lin)\n",
    "    score_train.append( sklearn.metrics.accuracy_score(train_labels, res) )\n",
    "\n",
    "    res = logreg.predict(test_dataset_lin)\n",
    "    score_test.append( sklearn.metrics.accuracy_score(test_labels, res) )\n",
    "\n",
    "    res = logreg.predict(valid_dataset_lin)\n",
    "    score_valid.append( sklearn.metrics.accuracy_score(valid_labels, res) )\n",
    "    \n",
    "print(score_train)\n",
    "print(score_test)\n",
    "print(score_valid)"
   ]
  },
  {
   "cell_type": "code",
   "execution_count": null,
   "metadata": {
    "collapsed": true
   },
   "outputs": [],
   "source": []
  }
 ],
 "metadata": {
  "colab": {
   "default_view": {},
   "name": "1_notmnist.ipynb",
   "provenance": [],
   "version": "0.3.2",
   "views": {}
  },
  "kernelspec": {
   "display_name": "Python 2",
   "language": "python",
   "name": "python2"
  },
  "language_info": {
   "codemirror_mode": {
    "name": "ipython",
    "version": 2
   },
   "file_extension": ".py",
   "mimetype": "text/x-python",
   "name": "python",
   "nbconvert_exporter": "python",
   "pygments_lexer": "ipython2",
   "version": "2.7.13"
  }
 },
 "nbformat": 4,
 "nbformat_minor": 0
}
